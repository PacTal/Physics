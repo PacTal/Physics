{
  "nbformat": 4,
  "nbformat_minor": 0,
  "metadata": {
    "colab": {
      "provenance": [],
      "include_colab_link": true
    },
    "kernelspec": {
      "name": "python3",
      "display_name": "Python 3"
    },
    "language_info": {
      "name": "python"
    }
  },
  "cells": [
    {
      "cell_type": "markdown",
      "metadata": {
        "id": "view-in-github",
        "colab_type": "text"
      },
      "source": [
        "<a href=\"https://colab.research.google.com/github/PacTal/Physics/blob/main/Class_vector_c%2B%2B.ipynb\" target=\"_parent\"><img src=\"https://colab.research.google.com/assets/colab-badge.svg\" alt=\"Open In Colab\"/></a>"
      ]
    },
    {
      "cell_type": "code",
      "execution_count": null,
      "metadata": {
        "id": "vbWwoU1r4Vmv"
      },
      "outputs": [],
      "source": [
        "%%writefile vector.cpp\n",
        "//---Author: PacTal 2024\n",
        "#include <iostream> // For input and output\n",
        "#include <cmath>    // For mathematical functions\n",
        "\n",
        "// Definition of the vector class\n",
        "class Vector {\n",
        "private:\n",
        "    float v[3];\n",
        "public:\n",
        "    void init();\n",
        "    void setX(float x);\n",
        "    void setY(float y);\n",
        "    void setZ(float z);\n",
        "    float getX() const;\n",
        "    float getY() const;\n",
        "    float getZ() const;\n",
        "    float magnitude() const;\n",
        "};\n",
        "// Implementation of member functions\n",
        "void Vector::init() {\n",
        "    for (int i = 0; i < 3; ++i) {\n",
        "        v[i] = 0.0;\n",
        "    }\n",
        "}\n",
        "void Vector::setX(float x) {\n",
        "    v[0] = x;\n",
        "}\n",
        "void Vector::setY(float y) {\n",
        "    v[1] = y;\n",
        "}\n",
        "void Vector::setZ(float z) {\n",
        "    v[2] = z;\n",
        "}\n",
        "\n",
        "float Vector::getX() const {\n",
        "    return v[0];\n",
        "}\n",
        "\n",
        "float Vector::getY() const {\n",
        "    return v[1];\n",
        "}\n",
        "\n",
        "float Vector::getZ() const {\n",
        "    return v[2];\n",
        "}\n",
        "\n",
        "float Vector::magnitude() const {\n",
        "    float a = v[0], b = v[1], c = v[2];\n",
        "    return std::sqrt(a * a + b * b + c * c);\n",
        "}\n",
        "\n",
        "// Overloading the addition operator for vector addition\n",
        "Vector operator+(const Vector &A, const Vector &B) {\n",
        "    Vector C;\n",
        "    float x = A.getX() + B.getX();\n",
        "    float y = A.getY() + B.getY();\n",
        "    float z = A.getZ() + B.getZ();\n",
        "    C.setX(x);\n",
        "    C.setY(y);\n",
        "    C.setZ(z);\n",
        "    return C;\n",
        "}\n",
        "\n",
        "// Overloading the multiplication operator for scalar multiplication\n",
        "Vector operator*(float a, const Vector &A) {\n",
        "    Vector C;\n",
        "    float x = a * A.getX();\n",
        "    float y = a * A.getY();\n",
        "    float z = a * A.getZ();\n",
        "    C.setX(x);\n",
        "    C.setY(y);\n",
        "    C.setZ(z);\n",
        "    return C;\n",
        "}\n",
        "\n",
        "// Main program\n",
        "int main() {\n",
        "    float x, y, z, a;\n",
        "    Vector R, sum, V;\n",
        "\n",
        "    R.init();\n",
        "    std::cout << \"Enter x-coordinate: \";\n",
        "    std::cin >> x;\n",
        "    std::cout << \"Enter y-coordinate: \";\n",
        "    std::cin >> y;\n",
        "    std::cout << \"Enter z-coordinate: \";\n",
        "    std::cin >> z;\n",
        "    std::cout << \"------------------------\" << std::endl;\n",
        "    std::cout << \"Enter scalar: \";\n",
        "    std::cin >> a;\n",
        "    R.setX(x);\n",
        "    R.setY(y);\n",
        "    R.setZ(z);\n",
        "    sum = R + R;\n",
        "    V = a * R;\n",
        "    float mag = V.magnitude();\n",
        "    std::cout << \"The magnitude of the vector is \" << mag << std::endl;\n",
        "    return 0;\n",
        "}"
      ]
    },
    {
      "cell_type": "code",
      "source": [
        "!g++ vector.cpp -o vector\n",
        "!./vector"
      ],
      "metadata": {
        "id": "n4ZiE9n-4d6K"
      },
      "execution_count": null,
      "outputs": []
    }
  ]
}